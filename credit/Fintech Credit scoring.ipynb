{
 "cells": [
  {
   "cell_type": "markdown",
   "id": "dc32846b",
   "metadata": {},
   "source": [
    "## Prediction Problem - Predict the probability that somebody will experience financial distress in the next two years. Goal - Use the outputted value by the model and convert it to a FICO style score."
   ]
  },
  {
   "cell_type": "code",
   "execution_count": 1,
   "id": "66382d3e",
   "metadata": {},
   "outputs": [
    {
     "name": "stdout",
     "output_type": "stream",
     "text": [
      "D:\\FYP\\Give-me-some-credit-master\n"
     ]
    }
   ],
   "source": [
    "%cd \"D:\\FYP\\Give-me-some-credit-master\""
   ]
  },
  {
   "cell_type": "code",
   "execution_count": 2,
   "metadata": {},
   "outputs": [
    {
     "data": {
      "text/html": [
       "<div>\n",
       "<style scoped>\n",
       "    .dataframe tbody tr th:only-of-type {\n",
       "        vertical-align: middle;\n",
       "    }\n",
       "\n",
       "    .dataframe tbody tr th {\n",
       "        vertical-align: top;\n",
       "    }\n",
       "\n",
       "    .dataframe thead th {\n",
       "        text-align: right;\n",
       "    }\n",
       "</style>\n",
       "<table border=\"1\" class=\"dataframe\">\n",
       "  <thead>\n",
       "    <tr style=\"text-align: right;\">\n",
       "      <th></th>\n",
       "      <th>Unnamed: 0</th>\n",
       "      <th>SeriousDlqin2yrs</th>\n",
       "      <th>RevolvingUtilizationOfUnsecuredLines</th>\n",
       "      <th>age</th>\n",
       "      <th>NumberOfTime30-59DaysPastDueNotWorse</th>\n",
       "      <th>DebtRatio</th>\n",
       "      <th>MonthlyIncome</th>\n",
       "      <th>NumberOfOpenCreditLinesAndLoans</th>\n",
       "      <th>NumberOfTimes90DaysLate</th>\n",
       "      <th>NumberRealEstateLoansOrLines</th>\n",
       "      <th>NumberOfTime60-89DaysPastDueNotWorse</th>\n",
       "      <th>NumberOfDependents</th>\n",
       "    </tr>\n",
       "  </thead>\n",
       "  <tbody>\n",
       "    <tr>\n",
       "      <th>0</th>\n",
       "      <td>1</td>\n",
       "      <td>1</td>\n",
       "      <td>0.766127</td>\n",
       "      <td>45</td>\n",
       "      <td>2</td>\n",
       "      <td>0.802982</td>\n",
       "      <td>9120.0</td>\n",
       "      <td>13</td>\n",
       "      <td>0</td>\n",
       "      <td>6</td>\n",
       "      <td>0</td>\n",
       "      <td>2.0</td>\n",
       "    </tr>\n",
       "    <tr>\n",
       "      <th>1</th>\n",
       "      <td>2</td>\n",
       "      <td>0</td>\n",
       "      <td>0.957151</td>\n",
       "      <td>40</td>\n",
       "      <td>0</td>\n",
       "      <td>0.121876</td>\n",
       "      <td>2600.0</td>\n",
       "      <td>4</td>\n",
       "      <td>0</td>\n",
       "      <td>0</td>\n",
       "      <td>0</td>\n",
       "      <td>1.0</td>\n",
       "    </tr>\n",
       "    <tr>\n",
       "      <th>2</th>\n",
       "      <td>3</td>\n",
       "      <td>0</td>\n",
       "      <td>0.658180</td>\n",
       "      <td>38</td>\n",
       "      <td>1</td>\n",
       "      <td>0.085113</td>\n",
       "      <td>3042.0</td>\n",
       "      <td>2</td>\n",
       "      <td>1</td>\n",
       "      <td>0</td>\n",
       "      <td>0</td>\n",
       "      <td>0.0</td>\n",
       "    </tr>\n",
       "    <tr>\n",
       "      <th>3</th>\n",
       "      <td>4</td>\n",
       "      <td>0</td>\n",
       "      <td>0.233810</td>\n",
       "      <td>30</td>\n",
       "      <td>0</td>\n",
       "      <td>0.036050</td>\n",
       "      <td>3300.0</td>\n",
       "      <td>5</td>\n",
       "      <td>0</td>\n",
       "      <td>0</td>\n",
       "      <td>0</td>\n",
       "      <td>0.0</td>\n",
       "    </tr>\n",
       "    <tr>\n",
       "      <th>4</th>\n",
       "      <td>5</td>\n",
       "      <td>0</td>\n",
       "      <td>0.907239</td>\n",
       "      <td>49</td>\n",
       "      <td>1</td>\n",
       "      <td>0.024926</td>\n",
       "      <td>63588.0</td>\n",
       "      <td>7</td>\n",
       "      <td>0</td>\n",
       "      <td>1</td>\n",
       "      <td>0</td>\n",
       "      <td>0.0</td>\n",
       "    </tr>\n",
       "  </tbody>\n",
       "</table>\n",
       "</div>"
      ],
      "text/plain": [
       "   Unnamed: 0  SeriousDlqin2yrs  RevolvingUtilizationOfUnsecuredLines  age  \\\n",
       "0           1                 1                              0.766127   45   \n",
       "1           2                 0                              0.957151   40   \n",
       "2           3                 0                              0.658180   38   \n",
       "3           4                 0                              0.233810   30   \n",
       "4           5                 0                              0.907239   49   \n",
       "\n",
       "   NumberOfTime30-59DaysPastDueNotWorse  DebtRatio  MonthlyIncome  \\\n",
       "0                                     2   0.802982         9120.0   \n",
       "1                                     0   0.121876         2600.0   \n",
       "2                                     1   0.085113         3042.0   \n",
       "3                                     0   0.036050         3300.0   \n",
       "4                                     1   0.024926        63588.0   \n",
       "\n",
       "   NumberOfOpenCreditLinesAndLoans  NumberOfTimes90DaysLate  \\\n",
       "0                               13                        0   \n",
       "1                                4                        0   \n",
       "2                                2                        1   \n",
       "3                                5                        0   \n",
       "4                                7                        0   \n",
       "\n",
       "   NumberRealEstateLoansOrLines  NumberOfTime60-89DaysPastDueNotWorse  \\\n",
       "0                             6                                     0   \n",
       "1                             0                                     0   \n",
       "2                             0                                     0   \n",
       "3                             0                                     0   \n",
       "4                             1                                     0   \n",
       "\n",
       "   NumberOfDependents  \n",
       "0                 2.0  \n",
       "1                 1.0  \n",
       "2                 0.0  \n",
       "3                 0.0  \n",
       "4                 0.0  "
      ]
     },
     "execution_count": 2,
     "metadata": {},
     "output_type": "execute_result"
    }
   ],
   "source": [
    "import pandas as pd\n",
    "df = pd.read_csv(\"data/cs-training.csv\")\n",
    "df.head()"
   ]
  },
  {
   "cell_type": "code",
   "execution_count": 7,
   "metadata": {},
   "outputs": [
    {
     "data": {
      "text/plain": [
       "count    150000.000000\n",
       "mean        353.005076\n",
       "std        2037.818523\n",
       "min           0.000000\n",
       "25%           0.175074\n",
       "50%           0.366508\n",
       "75%           0.868254\n",
       "max      329664.000000\n",
       "Name: DebtRatio, dtype: float64"
      ]
     },
     "execution_count": 7,
     "metadata": {},
     "output_type": "execute_result"
    }
   ],
   "source": [
    "df.DebtRatio.describe()"
   ]
  },
  {
   "cell_type": "markdown",
   "metadata": {},
   "source": [
    "#### DebtRatio\n",
    "2.5% of clients owe around 3490 or more times what they own\n",
    "For the people who have monthly income in this 2.5%, only 185 people have values for their monthly incomes and the values are either 0 or 1.\n",
    "There are 164 out of these 185 people who are of two different types, first with no monthly income and does not default and second with monthly income and does default.\n",
    "#### RevolvingUtilizationOfUnsecuredLines\n",
    "Defined as ratio of the total amount of money owed to total credit limit distribution of values is right-skewed, consider removing outliers\n",
    "It is expected that as this value increases, the proportion of people defaulting should increase as well\n",
    "However, we can see that as the minimum value of this column is set to 13, the proportion of defaulters is smaller than that belonging to the pool of clients with total amount of money owed not exceeding total credit limit.\n",
    "Thus we should remove those samples with RevolvingUtilizationOfUnsecuredLines's value more than equal to 13\n"
   ]
  },
  {
   "cell_type": "markdown",
   "metadata": {},
   "source": [
    "## Removing Outliers"
   ]
  },
  {
   "cell_type": "code",
   "execution_count": 3,
   "metadata": {},
   "outputs": [],
   "source": [
    "removed_debt_outliers = df.drop(df[df['DebtRatio'] > 3489.025].index)\n",
    "removed_debt_outliers = removed_debt_outliers.fillna(removed_debt_outliers.median())"
   ]
  },
  {
   "cell_type": "code",
   "execution_count": 4,
   "metadata": {},
   "outputs": [],
   "source": [
    "# Removed utilization outliers\n",
    "dfus = removed_debt_outliers.drop(removed_debt_outliers[removed_debt_outliers['RevolvingUtilizationOfUnsecuredLines'] > 10].index)"
   ]
  },
  {
   "cell_type": "code",
   "execution_count": 5,
   "metadata": {},
   "outputs": [],
   "source": [
    "# Removed 98s\n",
    "dfn98 = dfus.copy()\n",
    "dfn98.loc[dfn98['NumberOfTime30-59DaysPastDueNotWorse'] > 90, 'NumberOfTime30-59DaysPastDueNotWorse'] = 18\n",
    "dfn98.loc[dfn98['NumberOfTime60-89DaysPastDueNotWorse'] > 90, 'NumberOfTime60-89DaysPastDueNotWorse'] = 18\n",
    "dfn98.loc[dfn98['NumberOfTimes90DaysLate'] > 90, 'NumberOfTimes90DaysLate'] = 18"
   ]
  },
  {
   "cell_type": "code",
   "execution_count": 6,
   "id": "8f43519e",
   "metadata": {},
   "outputs": [
    {
     "data": {
      "text/html": [
       "<div>\n",
       "<style scoped>\n",
       "    .dataframe tbody tr th:only-of-type {\n",
       "        vertical-align: middle;\n",
       "    }\n",
       "\n",
       "    .dataframe tbody tr th {\n",
       "        vertical-align: top;\n",
       "    }\n",
       "\n",
       "    .dataframe thead th {\n",
       "        text-align: right;\n",
       "    }\n",
       "</style>\n",
       "<table border=\"1\" class=\"dataframe\">\n",
       "  <thead>\n",
       "    <tr style=\"text-align: right;\">\n",
       "      <th>NumberOfDependents</th>\n",
       "      <th>0.0</th>\n",
       "      <th>1.0</th>\n",
       "      <th>2.0</th>\n",
       "      <th>3.0</th>\n",
       "      <th>4.0</th>\n",
       "      <th>5.0</th>\n",
       "      <th>6.0</th>\n",
       "      <th>7.0</th>\n",
       "      <th>8.0</th>\n",
       "      <th>9.0</th>\n",
       "      <th>10.0</th>\n",
       "      <th>13.0</th>\n",
       "      <th>20.0</th>\n",
       "    </tr>\n",
       "    <tr>\n",
       "      <th>age</th>\n",
       "      <th></th>\n",
       "      <th></th>\n",
       "      <th></th>\n",
       "      <th></th>\n",
       "      <th></th>\n",
       "      <th></th>\n",
       "      <th></th>\n",
       "      <th></th>\n",
       "      <th></th>\n",
       "      <th></th>\n",
       "      <th></th>\n",
       "      <th></th>\n",
       "      <th></th>\n",
       "    </tr>\n",
       "  </thead>\n",
       "  <tbody>\n",
       "    <tr>\n",
       "      <th>0</th>\n",
       "      <td>0</td>\n",
       "      <td>0</td>\n",
       "      <td>1</td>\n",
       "      <td>0</td>\n",
       "      <td>0</td>\n",
       "      <td>0</td>\n",
       "      <td>0</td>\n",
       "      <td>0</td>\n",
       "      <td>0</td>\n",
       "      <td>0</td>\n",
       "      <td>0</td>\n",
       "      <td>0</td>\n",
       "      <td>0</td>\n",
       "    </tr>\n",
       "    <tr>\n",
       "      <th>21</th>\n",
       "      <td>148</td>\n",
       "      <td>3</td>\n",
       "      <td>1</td>\n",
       "      <td>0</td>\n",
       "      <td>0</td>\n",
       "      <td>0</td>\n",
       "      <td>0</td>\n",
       "      <td>0</td>\n",
       "      <td>0</td>\n",
       "      <td>0</td>\n",
       "      <td>0</td>\n",
       "      <td>0</td>\n",
       "      <td>0</td>\n",
       "    </tr>\n",
       "    <tr>\n",
       "      <th>22</th>\n",
       "      <td>385</td>\n",
       "      <td>7</td>\n",
       "      <td>2</td>\n",
       "      <td>2</td>\n",
       "      <td>0</td>\n",
       "      <td>0</td>\n",
       "      <td>0</td>\n",
       "      <td>0</td>\n",
       "      <td>0</td>\n",
       "      <td>0</td>\n",
       "      <td>0</td>\n",
       "      <td>0</td>\n",
       "      <td>0</td>\n",
       "    </tr>\n",
       "    <tr>\n",
       "      <th>23</th>\n",
       "      <td>550</td>\n",
       "      <td>33</td>\n",
       "      <td>13</td>\n",
       "      <td>3</td>\n",
       "      <td>0</td>\n",
       "      <td>0</td>\n",
       "      <td>0</td>\n",
       "      <td>0</td>\n",
       "      <td>0</td>\n",
       "      <td>0</td>\n",
       "      <td>0</td>\n",
       "      <td>0</td>\n",
       "      <td>0</td>\n",
       "    </tr>\n",
       "    <tr>\n",
       "      <th>24</th>\n",
       "      <td>689</td>\n",
       "      <td>48</td>\n",
       "      <td>19</td>\n",
       "      <td>3</td>\n",
       "      <td>1</td>\n",
       "      <td>0</td>\n",
       "      <td>0</td>\n",
       "      <td>0</td>\n",
       "      <td>0</td>\n",
       "      <td>0</td>\n",
       "      <td>0</td>\n",
       "      <td>0</td>\n",
       "      <td>0</td>\n",
       "    </tr>\n",
       "    <tr>\n",
       "      <th>...</th>\n",
       "      <td>...</td>\n",
       "      <td>...</td>\n",
       "      <td>...</td>\n",
       "      <td>...</td>\n",
       "      <td>...</td>\n",
       "      <td>...</td>\n",
       "      <td>...</td>\n",
       "      <td>...</td>\n",
       "      <td>...</td>\n",
       "      <td>...</td>\n",
       "      <td>...</td>\n",
       "      <td>...</td>\n",
       "      <td>...</td>\n",
       "    </tr>\n",
       "    <tr>\n",
       "      <th>99</th>\n",
       "      <td>5</td>\n",
       "      <td>0</td>\n",
       "      <td>0</td>\n",
       "      <td>0</td>\n",
       "      <td>0</td>\n",
       "      <td>0</td>\n",
       "      <td>0</td>\n",
       "      <td>0</td>\n",
       "      <td>0</td>\n",
       "      <td>0</td>\n",
       "      <td>0</td>\n",
       "      <td>0</td>\n",
       "      <td>0</td>\n",
       "    </tr>\n",
       "    <tr>\n",
       "      <th>101</th>\n",
       "      <td>3</td>\n",
       "      <td>0</td>\n",
       "      <td>0</td>\n",
       "      <td>0</td>\n",
       "      <td>0</td>\n",
       "      <td>0</td>\n",
       "      <td>0</td>\n",
       "      <td>0</td>\n",
       "      <td>0</td>\n",
       "      <td>0</td>\n",
       "      <td>0</td>\n",
       "      <td>0</td>\n",
       "      <td>0</td>\n",
       "    </tr>\n",
       "    <tr>\n",
       "      <th>102</th>\n",
       "      <td>2</td>\n",
       "      <td>1</td>\n",
       "      <td>0</td>\n",
       "      <td>0</td>\n",
       "      <td>0</td>\n",
       "      <td>0</td>\n",
       "      <td>0</td>\n",
       "      <td>0</td>\n",
       "      <td>0</td>\n",
       "      <td>0</td>\n",
       "      <td>0</td>\n",
       "      <td>0</td>\n",
       "      <td>0</td>\n",
       "    </tr>\n",
       "    <tr>\n",
       "      <th>103</th>\n",
       "      <td>3</td>\n",
       "      <td>0</td>\n",
       "      <td>0</td>\n",
       "      <td>0</td>\n",
       "      <td>0</td>\n",
       "      <td>0</td>\n",
       "      <td>0</td>\n",
       "      <td>0</td>\n",
       "      <td>0</td>\n",
       "      <td>0</td>\n",
       "      <td>0</td>\n",
       "      <td>0</td>\n",
       "      <td>0</td>\n",
       "    </tr>\n",
       "    <tr>\n",
       "      <th>107</th>\n",
       "      <td>1</td>\n",
       "      <td>0</td>\n",
       "      <td>0</td>\n",
       "      <td>0</td>\n",
       "      <td>0</td>\n",
       "      <td>0</td>\n",
       "      <td>0</td>\n",
       "      <td>0</td>\n",
       "      <td>0</td>\n",
       "      <td>0</td>\n",
       "      <td>0</td>\n",
       "      <td>0</td>\n",
       "      <td>0</td>\n",
       "    </tr>\n",
       "  </tbody>\n",
       "</table>\n",
       "<p>84 rows × 13 columns</p>\n",
       "</div>"
      ],
      "text/plain": [
       "NumberOfDependents  0.0   1.0   2.0   3.0   4.0   5.0   6.0   7.0   8.0   \\\n",
       "age                                                                        \n",
       "0                      0     0     1     0     0     0     0     0     0   \n",
       "21                   148     3     1     0     0     0     0     0     0   \n",
       "22                   385     7     2     2     0     0     0     0     0   \n",
       "23                   550    33    13     3     0     0     0     0     0   \n",
       "24                   689    48    19     3     1     0     0     0     0   \n",
       "..                   ...   ...   ...   ...   ...   ...   ...   ...   ...   \n",
       "99                     5     0     0     0     0     0     0     0     0   \n",
       "101                    3     0     0     0     0     0     0     0     0   \n",
       "102                    2     1     0     0     0     0     0     0     0   \n",
       "103                    3     0     0     0     0     0     0     0     0   \n",
       "107                    1     0     0     0     0     0     0     0     0   \n",
       "\n",
       "NumberOfDependents  9.0   10.0  13.0  20.0  \n",
       "age                                         \n",
       "0                      0     0     0     0  \n",
       "21                     0     0     0     0  \n",
       "22                     0     0     0     0  \n",
       "23                     0     0     0     0  \n",
       "24                     0     0     0     0  \n",
       "..                   ...   ...   ...   ...  \n",
       "99                     0     0     0     0  \n",
       "101                    0     0     0     0  \n",
       "102                    0     0     0     0  \n",
       "103                    0     0     0     0  \n",
       "107                    0     0     0     0  \n",
       "\n",
       "[84 rows x 13 columns]"
      ]
     },
     "execution_count": 6,
     "metadata": {},
     "output_type": "execute_result"
    }
   ],
   "source": [
    "pd.crosstab(df.age, df.NumberOfDependents)\n"
   ]
  },
  {
   "cell_type": "code",
   "execution_count": 7,
   "metadata": {},
   "outputs": [
    {
     "data": {
      "text/plain": [
       "Text(0.5, 1.0, 'Correlation Heatmap')"
      ]
     },
     "execution_count": 7,
     "metadata": {},
     "output_type": "execute_result"
    },
    {
     "data": {
      "image/png": "[encoded data removed]",
      "text/plain": [
       "<Figure size 936x432 with 2 Axes>"
      ]
     },
     "metadata": {
      "needs_background": "light"
     },
     "output_type": "display_data"
    }
   ],
   "source": [
    "#those in white have very high coorelation with each other \n",
    "#we will not take those features that have high corelation with eachother\n",
    "import matplotlib.pyplot as plt\n",
    "import seaborn as sns\n",
    "plt.figure(figsize=(13, 6))\n",
    "heatmap = sns.heatmap(df.corr(), vmin=-1, vmax=1, annot=True)\n",
    "heatmap.set_title('Correlation Heatmap', fontdict={'fontsize':12}, pad=12)\n"
   ]
  },
  {
   "cell_type": "markdown",
   "id": "72a79e81",
   "metadata": {},
   "source": [
    "## Basic Cleanling - Converting each column name to camel case."
   ]
  },
  {
   "cell_type": "code",
   "execution_count": 8,
   "id": "3bd10ed8",
   "metadata": {},
   "outputs": [],
   "source": [
    "import re\n",
    "def camel_to_snake(column_name):\n",
    "    \"\"\"\n",
    "    converts a string that is camelCase into snake_case\n",
    "    Example:\n",
    "        print camel_to_snake(\"javaLovesCamelCase\")\n",
    "        > java_loves_camel_case\n",
    "    Reference:\n",
    "        http://stackoverflow.com/questions/1175208/elegant-python-function-to-convert-camelcase-to-camel-case\n",
    "    \"\"\"\n",
    "    s1 = re.sub('(.)([A-Z][a-z]+)', r'\\1_\\2', column_name)\n",
    "    return re.sub('([a-z0-9])([A-Z])', r'\\1_\\2', s1).lower()"
   ]
  },
  {
   "cell_type": "code",
   "execution_count": 9,
   "id": "ca0efea4",
   "metadata": {},
   "outputs": [
    {
     "data": {
      "text/plain": [
       "['serious_dlqin2yrs',\n",
       " 'revolving_utilization_of_unsecured_lines',\n",
       " 'age',\n",
       " 'number_of_time30-59_days_past_due_not_worse',\n",
       " 'debt_ratio',\n",
       " 'monthly_income',\n",
       " 'number_of_open_credit_lines_and_loans',\n",
       " 'number_of_times90_days_late',\n",
       " 'number_real_estate_loans_or_lines',\n",
       " 'number_of_time60-89_days_past_due_not_worse',\n",
       " 'number_of_dependents']"
      ]
     },
     "execution_count": 9,
     "metadata": {},
     "output_type": "execute_result"
    }
   ],
   "source": [
    "df.columns = [camel_to_snake(col) for col in df.columns]\n",
    "collist = df.columns.tolist()[1:]\n",
    "collist"
   ]
  },
  {
   "cell_type": "markdown",
   "id": "0f8e118c",
   "metadata": {},
   "source": [
    "## Handling Missing Values"
   ]
  },
  {
   "cell_type": "raw",
   "id": "43b06ebf",
   "metadata": {},
   "source": [
    "\n",
    "pd.melt()\n",
    "For converting data from wide to long format.\n",
    "\n",
    ">>> df\n",
    "A B C\n",
    "a 1 2\n",
    "b 3 4\n",
    "c 5 6\n",
    "\n",
    ">>> pd.melt(df, id_vars=['A'], value_vars=['B'])\n",
    "A variable value\n",
    "a B        1\n",
    "b B        3\n",
    "c B        5"
   ]
  },
  {
   "cell_type": "code",
   "execution_count": 10,
   "id": "0fe0fb10",
   "metadata": {},
   "outputs": [
    {
     "data": {
      "text/html": [
       "<div>\n",
       "<style scoped>\n",
       "    .dataframe tbody tr th:only-of-type {\n",
       "        vertical-align: middle;\n",
       "    }\n",
       "\n",
       "    .dataframe tbody tr th {\n",
       "        vertical-align: top;\n",
       "    }\n",
       "\n",
       "    .dataframe thead th {\n",
       "        text-align: right;\n",
       "    }\n",
       "</style>\n",
       "<table border=\"1\" class=\"dataframe\">\n",
       "  <thead>\n",
       "    <tr style=\"text-align: right;\">\n",
       "      <th></th>\n",
       "      <th>variable</th>\n",
       "      <th>value</th>\n",
       "    </tr>\n",
       "  </thead>\n",
       "  <tbody>\n",
       "    <tr>\n",
       "      <th>1649995</th>\n",
       "      <td>number_of_dependents</td>\n",
       "      <td>0.0</td>\n",
       "    </tr>\n",
       "    <tr>\n",
       "      <th>1649996</th>\n",
       "      <td>number_of_dependents</td>\n",
       "      <td>2.0</td>\n",
       "    </tr>\n",
       "    <tr>\n",
       "      <th>1649997</th>\n",
       "      <td>number_of_dependents</td>\n",
       "      <td>0.0</td>\n",
       "    </tr>\n",
       "    <tr>\n",
       "      <th>1649998</th>\n",
       "      <td>number_of_dependents</td>\n",
       "      <td>0.0</td>\n",
       "    </tr>\n",
       "    <tr>\n",
       "      <th>1649999</th>\n",
       "      <td>number_of_dependents</td>\n",
       "      <td>0.0</td>\n",
       "    </tr>\n",
       "  </tbody>\n",
       "</table>\n",
       "</div>"
      ],
      "text/plain": [
       "                     variable  value\n",
       "1649995  number_of_dependents    0.0\n",
       "1649996  number_of_dependents    2.0\n",
       "1649997  number_of_dependents    0.0\n",
       "1649998  number_of_dependents    0.0\n",
       "1649999  number_of_dependents    0.0"
      ]
     },
     "execution_count": 10,
     "metadata": {},
     "output_type": "execute_result"
    }
   ],
   "source": [
    "# By not specifying id_vars, we're going to melt EVERYTHING\n",
    "df_lng = pd.melt(df[collist])\n",
    "# now our data is a series of (key, value) rows. \n",
    "#think of when you've done this in Excel so that you can\n",
    "#create a pivot table \n",
    "df_lng.head()\n",
    "df_lng.tail()"
   ]
  },
  {
   "cell_type": "raw",
   "id": "0b647782",
   "metadata": {},
   "source": [
    "HANDLING NULL VALUES"
   ]
  },
  {
   "cell_type": "code",
   "execution_count": 11,
   "id": "48cf4ef6",
   "metadata": {},
   "outputs": [
    {
     "data": {
      "text/plain": [
       "33655"
      ]
     },
     "execution_count": 11,
     "metadata": {},
     "output_type": "execute_result"
    }
   ],
   "source": [
    "null_variables = df_lng.value.isnull()\n",
    "null_variables.sum()"
   ]
  },
  {
   "cell_type": "code",
   "execution_count": 12,
   "id": "3318bca5",
   "metadata": {},
   "outputs": [
    {
     "data": {
      "text/html": [
       "<div>\n",
       "<style scoped>\n",
       "    .dataframe tbody tr th:only-of-type {\n",
       "        vertical-align: middle;\n",
       "    }\n",
       "\n",
       "    .dataframe tbody tr th {\n",
       "        vertical-align: top;\n",
       "    }\n",
       "\n",
       "    .dataframe thead th {\n",
       "        text-align: right;\n",
       "    }\n",
       "</style>\n",
       "<table border=\"1\" class=\"dataframe\">\n",
       "  <thead>\n",
       "    <tr style=\"text-align: right;\">\n",
       "      <th>value</th>\n",
       "      <th>False</th>\n",
       "      <th>True</th>\n",
       "    </tr>\n",
       "    <tr>\n",
       "      <th>variable</th>\n",
       "      <th></th>\n",
       "      <th></th>\n",
       "    </tr>\n",
       "  </thead>\n",
       "  <tbody>\n",
       "    <tr>\n",
       "      <th>age</th>\n",
       "      <td>150000</td>\n",
       "      <td>0</td>\n",
       "    </tr>\n",
       "    <tr>\n",
       "      <th>debt_ratio</th>\n",
       "      <td>150000</td>\n",
       "      <td>0</td>\n",
       "    </tr>\n",
       "    <tr>\n",
       "      <th>monthly_income</th>\n",
       "      <td>120269</td>\n",
       "      <td>29731</td>\n",
       "    </tr>\n",
       "    <tr>\n",
       "      <th>number_of_dependents</th>\n",
       "      <td>146076</td>\n",
       "      <td>3924</td>\n",
       "    </tr>\n",
       "    <tr>\n",
       "      <th>number_of_open_credit_lines_and_loans</th>\n",
       "      <td>150000</td>\n",
       "      <td>0</td>\n",
       "    </tr>\n",
       "    <tr>\n",
       "      <th>number_of_time30-59_days_past_due_not_worse</th>\n",
       "      <td>150000</td>\n",
       "      <td>0</td>\n",
       "    </tr>\n",
       "    <tr>\n",
       "      <th>number_of_time60-89_days_past_due_not_worse</th>\n",
       "      <td>150000</td>\n",
       "      <td>0</td>\n",
       "    </tr>\n",
       "    <tr>\n",
       "      <th>number_of_times90_days_late</th>\n",
       "      <td>150000</td>\n",
       "      <td>0</td>\n",
       "    </tr>\n",
       "    <tr>\n",
       "      <th>number_real_estate_loans_or_lines</th>\n",
       "      <td>150000</td>\n",
       "      <td>0</td>\n",
       "    </tr>\n",
       "    <tr>\n",
       "      <th>revolving_utilization_of_unsecured_lines</th>\n",
       "      <td>150000</td>\n",
       "      <td>0</td>\n",
       "    </tr>\n",
       "    <tr>\n",
       "      <th>serious_dlqin2yrs</th>\n",
       "      <td>150000</td>\n",
       "      <td>0</td>\n",
       "    </tr>\n",
       "    <tr>\n",
       "      <th>unnamed: 0</th>\n",
       "      <td>150000</td>\n",
       "      <td>0</td>\n",
       "    </tr>\n",
       "  </tbody>\n",
       "</table>\n",
       "</div>"
      ],
      "text/plain": [
       "value                                         False  True \n",
       "variable                                                  \n",
       "age                                          150000      0\n",
       "debt_ratio                                   150000      0\n",
       "monthly_income                               120269  29731\n",
       "number_of_dependents                         146076   3924\n",
       "number_of_open_credit_lines_and_loans        150000      0\n",
       "number_of_time30-59_days_past_due_not_worse  150000      0\n",
       "number_of_time60-89_days_past_due_not_worse  150000      0\n",
       "number_of_times90_days_late                  150000      0\n",
       "number_real_estate_loans_or_lines            150000      0\n",
       "revolving_utilization_of_unsecured_lines     150000      0\n",
       "serious_dlqin2yrs                            150000      0\n",
       "unnamed: 0                                   150000      0"
      ]
     },
     "execution_count": 12,
     "metadata": {},
     "output_type": "execute_result"
    }
   ],
   "source": [
    "# crosstab creates a frequency table between 2 variables\n",
    "# it's going to automatically enumerate the possibilities between\n",
    "# the two Series and show you a count of occurrences \n",
    "#in each possible bucket\n",
    "def print_null_freq(df):\n",
    "    \"\"\"\n",
    "    for a given DataFrame, calculates how many values for \n",
    "    each variable is null and prints the resulting table to stdout\n",
    "    \"\"\"\n",
    "    df_lng = pd.melt(df)\n",
    "    null_variables = df_lng.value.isnull()\n",
    "    return pd.crosstab(df_lng.variable, null_variables)\n",
    "print_null_freq(df)"
   ]
  },
  {
   "cell_type": "code",
   "execution_count": 13,
   "id": "ea396588",
   "metadata": {},
   "outputs": [
    {
     "data": {
      "text/html": [
       "<div>\n",
       "<style scoped>\n",
       "    .dataframe tbody tr th:only-of-type {\n",
       "        vertical-align: middle;\n",
       "    }\n",
       "\n",
       "    .dataframe tbody tr th {\n",
       "        vertical-align: top;\n",
       "    }\n",
       "\n",
       "    .dataframe thead th {\n",
       "        text-align: right;\n",
       "    }\n",
       "</style>\n",
       "<table border=\"1\" class=\"dataframe\">\n",
       "  <thead>\n",
       "    <tr style=\"text-align: right;\">\n",
       "      <th>value</th>\n",
       "      <th>False</th>\n",
       "      <th>True</th>\n",
       "    </tr>\n",
       "    <tr>\n",
       "      <th>variable</th>\n",
       "      <th></th>\n",
       "      <th></th>\n",
       "    </tr>\n",
       "  </thead>\n",
       "  <tbody>\n",
       "    <tr>\n",
       "      <th>age</th>\n",
       "      <td>150000</td>\n",
       "      <td>0</td>\n",
       "    </tr>\n",
       "    <tr>\n",
       "      <th>debt_ratio</th>\n",
       "      <td>150000</td>\n",
       "      <td>0</td>\n",
       "    </tr>\n",
       "    <tr>\n",
       "      <th>monthly_income</th>\n",
       "      <td>120269</td>\n",
       "      <td>29731</td>\n",
       "    </tr>\n",
       "    <tr>\n",
       "      <th>number_of_dependents</th>\n",
       "      <td>150000</td>\n",
       "      <td>0</td>\n",
       "    </tr>\n",
       "    <tr>\n",
       "      <th>number_of_open_credit_lines_and_loans</th>\n",
       "      <td>150000</td>\n",
       "      <td>0</td>\n",
       "    </tr>\n",
       "    <tr>\n",
       "      <th>number_of_time30-59_days_past_due_not_worse</th>\n",
       "      <td>150000</td>\n",
       "      <td>0</td>\n",
       "    </tr>\n",
       "    <tr>\n",
       "      <th>number_of_time60-89_days_past_due_not_worse</th>\n",
       "      <td>150000</td>\n",
       "      <td>0</td>\n",
       "    </tr>\n",
       "    <tr>\n",
       "      <th>number_of_times90_days_late</th>\n",
       "      <td>150000</td>\n",
       "      <td>0</td>\n",
       "    </tr>\n",
       "    <tr>\n",
       "      <th>number_real_estate_loans_or_lines</th>\n",
       "      <td>150000</td>\n",
       "      <td>0</td>\n",
       "    </tr>\n",
       "    <tr>\n",
       "      <th>revolving_utilization_of_unsecured_lines</th>\n",
       "      <td>150000</td>\n",
       "      <td>0</td>\n",
       "    </tr>\n",
       "    <tr>\n",
       "      <th>serious_dlqin2yrs</th>\n",
       "      <td>150000</td>\n",
       "      <td>0</td>\n",
       "    </tr>\n",
       "    <tr>\n",
       "      <th>unnamed: 0</th>\n",
       "      <td>150000</td>\n",
       "      <td>0</td>\n",
       "    </tr>\n",
       "  </tbody>\n",
       "</table>\n",
       "</div>"
      ],
      "text/plain": [
       "value                                         False  True \n",
       "variable                                                  \n",
       "age                                          150000      0\n",
       "debt_ratio                                   150000      0\n",
       "monthly_income                               120269  29731\n",
       "number_of_dependents                         150000      0\n",
       "number_of_open_credit_lines_and_loans        150000      0\n",
       "number_of_time30-59_days_past_due_not_worse  150000      0\n",
       "number_of_time60-89_days_past_due_not_worse  150000      0\n",
       "number_of_times90_days_late                  150000      0\n",
       "number_real_estate_loans_or_lines            150000      0\n",
       "revolving_utilization_of_unsecured_lines     150000      0\n",
       "serious_dlqin2yrs                            150000      0\n",
       "unnamed: 0                                   150000      0"
      ]
     },
     "execution_count": 13,
     "metadata": {},
     "output_type": "execute_result"
    }
   ],
   "source": [
    "df.number_of_dependents = df.number_of_dependents.fillna(0)\n",
    "print_null_freq(df)"
   ]
  },
  {
   "cell_type": "raw",
   "id": "9cf6410e",
   "metadata": {},
   "source": [
    "Taking a look at monthly_income we see that it's a bit more complicated than number_of_dependents. \n",
    "We have a few options for replacing missing data. We could do something like set it to the mean or\n",
    "median or the dataset but this might skew our distribution. We could also set it to 0 but this might\n",
    "not be right either. Instead we're going to use a technique called imputation."
   ]
  },
  {
   "cell_type": "code",
   "execution_count": 14,
   "id": "8d3d7c28",
   "metadata": {},
   "outputs": [
    {
     "data": {
      "text/plain": [
       "array([ 2.,  1.,  0.,  3.,  4.,  5.,  6.,  8.,  7., 20., 10.,  9., 13.])"
      ]
     },
     "execution_count": 14,
     "metadata": {},
     "output_type": "execute_result"
    }
   ],
   "source": [
    "df.number_of_dependents.unique()"
   ]
  },
  {
   "cell_type": "code",
   "execution_count": 15,
   "id": "1933d54f",
   "metadata": {},
   "outputs": [],
   "source": [
    "df.to_csv(\"data/credit-data-post-import.csv\", index=False)"
   ]
  },
  {
   "cell_type": "markdown",
   "id": "06411aa6",
   "metadata": {},
   "source": [
    "## Imputation"
   ]
  },
  {
   "cell_type": "markdown",
   "id": "b60ea529",
   "metadata": {},
   "source": [
    "To do this we're going to use the NearestNeighbors algorithm."
   ]
  },
  {
   "cell_type": "code",
   "execution_count": 16,
   "id": "f261a7b8",
   "metadata": {},
   "outputs": [],
   "source": [
    "#we use imputation to give intelligent values to our missing data\n",
    "of = pd.read_csv(\"./data/credit-data-post-import.csv\")\n",
    "df = of[collist]"
   ]
  },
  {
   "cell_type": "markdown",
   "id": "46c7737e",
   "metadata": {},
   "source": [
    "## Cross Validation"
   ]
  },
  {
   "cell_type": "markdown",
   "id": "74a585a4",
   "metadata": {},
   "source": [
    "We're going to use the simplest type of cross validation. we'll simply split our data into 2 groups: training and test. we'll use the training set to calibrate our model and then use the test set to evaluate how effective it is."
   ]
  },
  {
   "cell_type": "code",
   "execution_count": 17,
   "id": "594925f8",
   "metadata": {},
   "outputs": [],
   "source": [
    "import numpy as np\n",
    "#we are randomly spliting our data into 75% training data and 25% testing data\n",
    "is_test = np.random.uniform(0, 1, len(df)) > 0.75\n",
    "train = df[is_test==False]\n",
    "test = df[is_test==True]"
   ]
  },
  {
   "cell_type": "code",
   "execution_count": 18,
   "id": "7ab6347e",
   "metadata": {},
   "outputs": [
    {
     "data": {
      "text/plain": [
       "serious_dlqin2yrs                             -0.018717\n",
       "revolving_utilization_of_unsecured_lines       0.007308\n",
       "age                                            0.033654\n",
       "number_of_time30-59_days_past_due_not_worse   -0.009383\n",
       "debt_ratio                                    -0.027714\n",
       "monthly_income                                 1.000000\n",
       "number_of_open_credit_lines_and_loans          0.084749\n",
       "number_of_times90_days_late                   -0.011709\n",
       "number_real_estate_loans_or_lines              0.114223\n",
       "number_of_time60-89_days_past_due_not_worse   -0.010188\n",
       "number_of_dependents                           0.058039\n",
       "Name: monthly_income, dtype: float64"
      ]
     },
     "execution_count": 18,
     "metadata": {},
     "output_type": "execute_result"
    }
   ],
   "source": [
    "from sklearn.neighbors import KNeighborsRegressor\n",
    "\n",
    "income_imputer = KNeighborsRegressor(n_neighbors=1)\n",
    "\n",
    "# split our data into 2 groups; data containing nulls and data \n",
    "# not containing nulls we'll train on the latter and make\n",
    "# 'predictions' on the null data to impute monthly_income\n",
    "train_w_monthly_income = train[train.monthly_income.isnull()==False] #does not contain NULL\n",
    "train_w_null_monthly_income = train[train.monthly_income.isnull()==True] #contains NULL values\n",
    "train_w_monthly_income.corr().iloc[:,5] #correlation of features w.r.t to monthly income"
   ]
  },
  {
   "cell_type": "raw",
   "id": "b87ab994",
   "metadata": {},
   "source": [
    "Fit the model using number_real_estate_loans_or_lines' and 'number_of_open_credit_lines_and_loans as training data to predict monthly_income as target values."
   ]
  },
  {
   "cell_type": "code",
   "execution_count": 19,
   "metadata": {},
   "outputs": [
    {
     "data": {
      "image/png": "[encoded data removed]",
      "text/plain": [
       "<Figure size 1152x432 with 2 Axes>"
      ]
     },
     "metadata": {
      "needs_background": "light"
     },
     "output_type": "display_data"
    }
   ],
   "source": [
    "#we are taking only number_real_estate_loans_or_lines', 'number_of_open_credit_lines_and_loans because\n",
    "#they have the most effect on monthly income\n",
    "import seaborn as sns\n",
    "import matplotlib.pyplot as plt\n",
    "plt.figure(figsize=(16, 6))\n",
    "heatmap = sns.heatmap(train_w_monthly_income.corr()[['monthly_income']].sort_values(by='monthly_income', ascending=False), vmin=-1, vmax=1, annot=True, cmap='BrBG')\n",
    "heatmap.set_title('Features Correlating with monthly_income', fontdict={'fontsize':18}, pad=16);\n",
    "\n"
   ]
  },
  {
   "cell_type": "code",
   "execution_count": 20,
   "id": "ad875e68",
   "metadata": {},
   "outputs": [
    {
     "data": {
      "text/plain": [
       "KNeighborsRegressor(n_neighbors=1)"
      ]
     },
     "execution_count": 20,
     "metadata": {},
     "output_type": "execute_result"
    }
   ],
   "source": [
    "#training KNeighborsRegressor named income_imputer on number_real_estate_loans_or_lines', 'number_of_open_credit_lines_and_loans\n",
    "cols = ['number_real_estate_loans_or_lines', 'number_of_open_credit_lines_and_loans']\n",
    "income_imputer.fit(train_w_monthly_income[cols], train_w_monthly_income.monthly_income) #does not contain NULL values"
   ]
  },
  {
   "cell_type": "code",
   "execution_count": 21,
   "id": "cb353e08",
   "metadata": {},
   "outputs": [
    {
     "name": "stderr",
     "output_type": "stream",
     "text": [
      "<ipython-input-21-402f1cd47d1e>:3: SettingWithCopyWarning: \n",
      "A value is trying to be set on a copy of a slice from a DataFrame.\n",
      "Try using .loc[row_indexer,col_indexer] = value instead\n",
      "\n",
      "See the caveats in the documentation: https://pandas.pydata.org/pandas-docs/stable/user_guide/indexing.html#returning-a-view-versus-a-copy\n",
      "  train_w_null_monthly_income['monthly_income'] = new_values #storing predicted income in null values\n"
     ]
    },
    {
     "data": {
      "text/plain": [
       "array([31666.,  4500.,  5411., ...,  3150.,  7783., 11000.])"
      ]
     },
     "execution_count": 21,
     "metadata": {},
     "output_type": "execute_result"
    }
   ],
   "source": [
    "#predicting monthly income using the KNeighborsRegressor\n",
    "new_values = income_imputer.predict(train_w_null_monthly_income[cols])\n",
    "train_w_null_monthly_income['monthly_income'] = new_values #storing predicted income in null values\n",
    "new_values"
   ]
  },
  {
   "cell_type": "code",
   "execution_count": 22,
   "id": "ce100257",
   "metadata": {},
   "outputs": [],
   "source": [
    "#combine the data back together\n",
    "train = train_w_monthly_income.append(train_w_null_monthly_income)"
   ]
  },
  {
   "cell_type": "code",
   "execution_count": 23,
   "id": "10f05dc0",
   "metadata": {},
   "outputs": [
    {
     "name": "stderr",
     "output_type": "stream",
     "text": [
      "<ipython-input-23-1cac464d7e66>:2: SettingWithCopyWarning: \n",
      "A value is trying to be set on a copy of a slice from a DataFrame.\n",
      "Try using .loc[row_indexer,col_indexer] = value instead\n",
      "\n",
      "See the caveats in the documentation: https://pandas.pydata.org/pandas-docs/stable/user_guide/indexing.html#returning-a-view-versus-a-copy\n",
      "  test['monthly_income_imputed'] = income_imputer.predict(test[cols])\n"
     ]
    }
   ],
   "source": [
    "#retreive the two columns from test set [test_x], and predict monthly income column from it [test_y_imputed]\n",
    "test['monthly_income_imputed'] = income_imputer.predict(test[cols])"
   ]
  },
  {
   "cell_type": "code",
   "execution_count": 24,
   "id": "7b2aa00d",
   "metadata": {},
   "outputs": [
    {
     "name": "stderr",
     "output_type": "stream",
     "text": [
      "<ipython-input-24-4ea6a3826e26>:2: SettingWithCopyWarning: \n",
      "A value is trying to be set on a copy of a slice from a DataFrame.\n",
      "Try using .loc[row_indexer,col_indexer] = value instead\n",
      "\n",
      "See the caveats in the documentation: https://pandas.pydata.org/pandas-docs/stable/user_guide/indexing.html#returning-a-view-versus-a-copy\n",
      "  test['monthly_income'] = np.where(test.monthly_income.isnull(), test.monthly_income_imputed,\n"
     ]
    }
   ],
   "source": [
    "#replace only the \"null\" values of test.monthly_income WITH predicted values of test.monthly_income_imputed \n",
    "test['monthly_income'] = np.where(test.monthly_income.isnull(), test.monthly_income_imputed,\n",
    "                                  test.monthly_income)"
   ]
  },
  {
   "cell_type": "code",
   "execution_count": 25,
   "id": "b1cd9fdb",
   "metadata": {},
   "outputs": [],
   "source": [
    "from sklearn.linear_model import LogisticRegression\n",
    "from sklearn.neighbors import KNeighborsClassifier\n",
    "from sklearn.ensemble import RandomForestClassifier, GradientBoostingClassifier\n",
    "from sklearn.svm import SVC\n",
    "import pylab as pl\n",
    "from sklearn.metrics import classification_report\n",
    "train.to_csv(\"./data/credit-data-trainingset.csv\", index=False)\n",
    "test.to_csv(\"./data/credit-data-testset.csv\", index=False)"
   ]
  },
  {
   "cell_type": "markdown",
   "metadata": {},
   "source": [
    "## KNN"
   ]
  },
  {
   "cell_type": "code",
   "execution_count": 26,
   "id": "7e8d7c9c",
   "metadata": {},
   "outputs": [
    {
     "data": {
      "text/plain": [
       "<Figure size 1152x432 with 0 Axes>"
      ]
     },
     "execution_count": 26,
     "metadata": {},
     "output_type": "execute_result"
    },
    {
     "data": {
      "text/plain": [
       "<Figure size 1152x432 with 0 Axes>"
      ]
     },
     "metadata": {},
     "output_type": "display_data"
    }
   ],
   "source": [
    "\n",
    "features = ['revolving_utilization_of_unsecured_lines', 'debt_ratio',\n",
    "            'monthly_income', 'age', 'number_of_times90_days_late','number_of_dependents']\n",
    "\n",
    "clf = KNeighborsClassifier(n_neighbors=13)\n",
    "plt.figure(figsize=(16, 6))\n"
   ]
  },
  {
   "cell_type": "code",
   "execution_count": 27,
   "metadata": {},
   "outputs": [],
   "source": [
    "X_norm = (train[features] - train[features].min())/(train[features].max() - train[features].min())"
   ]
  },
  {
   "cell_type": "code",
   "execution_count": 28,
   "id": "2f77830a",
   "metadata": {},
   "outputs": [
    {
     "data": {
      "text/plain": [
       "array([0, 0, 0, ..., 0, 0, 0], dtype=int64)"
      ]
     },
     "execution_count": 28,
     "metadata": {},
     "output_type": "execute_result"
    }
   ],
   "source": [
    "clf.fit(train[features], train.serious_dlqin2yrs)\n",
    "#classes (returns an array)\n",
    "clf.predict(test[features])\n"
   ]
  },
  {
   "cell_type": "code",
   "execution_count": 29,
   "id": "1ad2ec10",
   "metadata": {},
   "outputs": [],
   "source": [
    "probs = clf.predict_proba(test[features])\n",
    "#prob_true = probs[::,1]\n",
    "#pl.hist(prob_true)\n"
   ]
  },
  {
   "cell_type": "code",
   "execution_count": 30,
   "id": "92901e15",
   "metadata": {},
   "outputs": [],
   "source": [
    "from sklearn.metrics import roc_curve, auc, classification_report, confusion_matrix\n",
    "preds = clf.predict_proba(test[features])"
   ]
  },
  {
   "cell_type": "code",
   "execution_count": 31,
   "id": "d2797fb5",
   "metadata": {},
   "outputs": [
    {
     "data": {
      "text/html": [
       "<div>\n",
       "<style scoped>\n",
       "    .dataframe tbody tr th:only-of-type {\n",
       "        vertical-align: middle;\n",
       "    }\n",
       "\n",
       "    .dataframe tbody tr th {\n",
       "        vertical-align: top;\n",
       "    }\n",
       "\n",
       "    .dataframe thead th {\n",
       "        text-align: right;\n",
       "    }\n",
       "</style>\n",
       "<table border=\"1\" class=\"dataframe\">\n",
       "  <thead>\n",
       "    <tr style=\"text-align: right;\">\n",
       "      <th>Predicted</th>\n",
       "      <th>0</th>\n",
       "      <th>1</th>\n",
       "    </tr>\n",
       "    <tr>\n",
       "      <th>Actual</th>\n",
       "      <th></th>\n",
       "      <th></th>\n",
       "    </tr>\n",
       "  </thead>\n",
       "  <tbody>\n",
       "    <tr>\n",
       "      <th>0</th>\n",
       "      <td>34926</td>\n",
       "      <td>19</td>\n",
       "    </tr>\n",
       "    <tr>\n",
       "      <th>1</th>\n",
       "      <td>2444</td>\n",
       "      <td>24</td>\n",
       "    </tr>\n",
       "  </tbody>\n",
       "</table>\n",
       "</div>"
      ],
      "text/plain": [
       "Predicted      0   1\n",
       "Actual              \n",
       "0          34926  19\n",
       "1           2444  24"
      ]
     },
     "execution_count": 31,
     "metadata": {},
     "output_type": "execute_result"
    }
   ],
   "source": [
    "pd.crosstab(test['serious_dlqin2yrs'], clf.predict(test[features]), rownames=[\"Actual\"], colnames=[\"Predicted\"])"
   ]
  },
  {
   "cell_type": "code",
   "execution_count": 32,
   "id": "32bbaa6e",
   "metadata": {},
   "outputs": [
    {
     "name": "stdout",
     "output_type": "stream",
     "text": [
      "              precision    recall  f1-score   support\n",
      "\n",
      "           0       0.93      1.00      0.97     34945\n",
      "           1       0.56      0.01      0.02      2468\n",
      "\n",
      "    accuracy                           0.93     37413\n",
      "   macro avg       0.75      0.50      0.49     37413\n",
      "weighted avg       0.91      0.93      0.90     37413\n",
      "\n"
     ]
    }
   ],
   "source": [
    "print(classification_report(test['serious_dlqin2yrs'], clf.predict(test[features]), labels=[0, 1]))"
   ]
  },
  {
   "cell_type": "code",
   "execution_count": 34,
   "id": "a22f3be5",
   "metadata": {},
   "outputs": [
    {
     "data": {
      "image/png": "[encoded data removed]",
      "text/plain": [
       "<Figure size 432x288 with 1 Axes>"
      ]
     },
     "metadata": {
      "needs_background": "light"
     },
     "output_type": "display_data"
    },
    {
     "data": {
      "image/png": "[encoded data removed]",
      "text/plain": [
       "<Figure size 432x288 with 1 Axes>"
      ]
     },
     "metadata": {
      "needs_background": "light"
     },
     "output_type": "display_data"
    },
    {
     "data": {
      "image/png": "[encoded data removed]",
      "text/plain": [
       "<Figure size 432x288 with 1 Axes>"
      ]
     },
     "metadata": {
      "needs_background": "light"
     },
     "output_type": "display_data"
    }
   ],
   "source": [
    "def plot_roc(name, probs):\n",
    "    fpr, tpr, thresholds = roc_curve(test['serious_dlqin2yrs'], probs)\n",
    "    roc_auc = auc(fpr, tpr)\n",
    "    pl.clf()\n",
    "    pl.plot(fpr, tpr, label='ROC curve (area = %0.2f)' % roc_auc)\n",
    "    pl.plot([0, 1], [0, 1], 'k--')\n",
    "    pl.xlim([0.0, 1.05])\n",
    "    pl.ylim([0.0, 1.05])\n",
    "    pl.xlabel('False Positive Rate')\n",
    "    pl.ylabel('True Positive Rate')\n",
    "    pl.title(name)\n",
    "    pl.legend(loc=\"lower right\")\n",
    "    pl.show()\n",
    "plot_roc(\"Perfect Classifier\", test['serious_dlqin2yrs'])\n",
    "plot_roc(\"Guessing\", np.random.uniform(0, 1, len(test['serious_dlqin2yrs'])))\n",
    "\n",
    "#[::,1] selects the 2nd column of the numpy array\n",
    "plot_roc(\"KNN\", preds[::,1])\n"
   ]
  },
  {
   "cell_type": "markdown",
   "id": "66b7a582",
   "metadata": {},
   "source": [
    "## RANDOMFOREST"
   ]
  },
  {
   "cell_type": "markdown",
   "metadata": {},
   "source": [
    "## Using Randomized search cv to select best hyperparameters"
   ]
  },
  {
   "cell_type": "code",
   "execution_count": 38,
   "metadata": {},
   "outputs": [
    {
     "name": "stdout",
     "output_type": "stream",
     "text": [
      "Fitting 30 folds for each of 10 candidates, totalling 300 fits\n",
      "Best Score: 0.9359245522867103\n",
      "Best Hyperparameters: {'n_estimators': 300, 'min_samples_split': 100, 'min_samples_leaf': 1, 'max_depth': 15}\n"
     ]
    }
   ],
   "source": [
    "from sklearn.model_selection import RepeatedStratifiedKFold\n",
    "from sklearn.model_selection import RandomizedSearchCV\n",
    "from scipy.stats import loguniform\n",
    "cv = RepeatedStratifiedKFold(n_splits=10, n_repeats=3, random_state=1)\n",
    "model = RandomForestClassifier()\n",
    "\n",
    "n_estimators = [100, 300, 500, 800, 1200]\n",
    "max_depth = [5, 8, 15, 25, 30]\n",
    "min_samples_split = [2, 5, 10, 15, 100]\n",
    "min_samples_leaf = [1, 2, 5, 10] \n",
    "\n",
    "hyperF = dict(n_estimators = n_estimators, max_depth = max_depth,  \n",
    "              min_samples_split = min_samples_split, \n",
    "             min_samples_leaf = min_samples_leaf)\n",
    "\n",
    "search = RandomizedSearchCV(model, hyperF, cv = cv, verbose = 1, \n",
    "                      n_jobs = -1)\n",
    "result = search.fit(train[features], train.serious_dlqin2yrs)\n",
    "# summarize result\n",
    "print('Best Score: %s' % result.best_score_)\n",
    "print('Best Hyperparameters: %s' % result.best_params_)"
   ]
  },
  {
   "cell_type": "code",
   "execution_count": 35,
   "id": "69fcb6ea",
   "metadata": {},
   "outputs": [
    {
     "name": "stdout",
     "output_type": "stream",
     "text": [
      "              precision    recall  f1-score   support\n",
      "\n",
      "           0       0.94      0.99      0.97     34945\n",
      "           1       0.54      0.14      0.22      2468\n",
      "\n",
      "    accuracy                           0.94     37413\n",
      "   macro avg       0.74      0.56      0.59     37413\n",
      "weighted avg       0.92      0.94      0.92     37413\n",
      "\n"
     ]
    },
    {
     "data": {
      "image/png": "[encoded data removed]",
      "text/plain": [
       "<Figure size 432x288 with 1 Axes>"
      ]
     },
     "metadata": {
      "needs_background": "light"
     },
     "output_type": "display_data"
    }
   ],
   "source": [
    "clf = RandomForestClassifier(n_estimators= 300, min_samples_split= 100, min_samples_leaf= 1, max_depth=15)\n",
    "clf.fit(train[features], train.serious_dlqin2yrs)\n",
    "probs = clf.predict_proba(test[features])[::,1]\n",
    "print (classification_report(test['serious_dlqin2yrs'], clf.predict(test[features])))\n",
    "plot_roc(\"RandomForest\", probs)"
   ]
  },
  {
   "cell_type": "markdown",
   "metadata": {},
   "source": [
    "## XGBOOST"
   ]
  },
  {
   "cell_type": "code",
   "execution_count": 35,
   "metadata": {},
   "outputs": [
    {
     "name": "stdout",
     "output_type": "stream",
     "text": [
      "Requirement already satisfied: xgboost in d:\\anaconda\\lib\\site-packages (1.6.1)\n",
      "Requirement already satisfied: scipy in d:\\anaconda\\lib\\site-packages (from xgboost) (1.6.2)\n",
      "Requirement already satisfied: numpy in d:\\anaconda\\lib\\site-packages (from xgboost) (1.20.1)\n"
     ]
    }
   ],
   "source": [
    "!pip install xgboost"
   ]
  },
  {
   "cell_type": "code",
   "execution_count": 36,
   "metadata": {},
   "outputs": [
    {
     "name": "stdout",
     "output_type": "stream",
     "text": [
      "              precision    recall  f1-score   support\n",
      "\n",
      "           0       0.94      0.99      0.97     35234\n",
      "           1       0.58      0.15      0.24      2472\n",
      "\n",
      "    accuracy                           0.94     37706\n",
      "   macro avg       0.76      0.57      0.60     37706\n",
      "weighted avg       0.92      0.94      0.92     37706\n",
      "\n"
     ]
    },
    {
     "data": {
      "image/png": "[encoded data removed]",
      "text/plain": [
       "<Figure size 432x288 with 1 Axes>"
      ]
     },
     "metadata": {
      "needs_background": "light"
     },
     "output_type": "display_data"
    }
   ],
   "source": [
    "from sklearn.metrics import accuracy_score\n",
    "from sklearn.metrics import confusion_matrix\n",
    "from xgboost import XGBClassifier \n",
    "clf = XGBClassifier(tree_method = 'auto')\n",
    "clf.fit(train[features], train.serious_dlqin2yrs)\n",
    "probs = clf.predict_proba(test[features])[::,1]\n",
    "print (classification_report(test['serious_dlqin2yrs'], clf.predict(test[features]), labels=[0, 1]))\n",
    "plot_roc(\"XGBOOST\", probs)"
   ]
  },
  {
   "cell_type": "markdown",
   "metadata": {},
   "source": [
    "## Logistic Regression"
   ]
  },
  {
   "cell_type": "markdown",
   "metadata": {},
   "source": [
    "### Hyper Parameter Tuning"
   ]
  },
  {
   "cell_type": "code",
   "execution_count": 35,
   "metadata": {},
   "outputs": [
    {
     "name": "stderr",
     "output_type": "stream",
     "text": [
      "D:\\anaconda\\lib\\site-packages\\sklearn\\model_selection\\_validation.py:372: FitFailedWarning: \n",
      "7080 fits failed out of a total of 15000.\n",
      "The score on these train-test partitions for these parameters will be set to nan.\n",
      "If these failures are not expected, you can try to debug them by setting error_score='raise'.\n",
      "\n",
      "Below are more details about the failures:\n",
      "--------------------------------------------------------------------------------\n",
      "1590 fits failed with the following error:\n",
      "Traceback (most recent call last):\n",
      "  File \"D:\\anaconda\\lib\\site-packages\\sklearn\\model_selection\\_validation.py\", line 680, in _fit_and_score\n",
      "    estimator.fit(X_train, y_train, **fit_params)\n",
      "  File \"D:\\anaconda\\lib\\site-packages\\sklearn\\linear_model\\_logistic.py\", line 1461, in fit\n",
      "    solver = _check_solver(self.solver, self.penalty, self.dual)\n",
      "  File \"D:\\anaconda\\lib\\site-packages\\sklearn\\linear_model\\_logistic.py\", line 447, in _check_solver\n",
      "    raise ValueError(\n",
      "ValueError: Solver lbfgs supports only 'l2' or 'none' penalties, got elasticnet penalty.\n",
      "\n",
      "--------------------------------------------------------------------------------\n",
      "1140 fits failed with the following error:\n",
      "Traceback (most recent call last):\n",
      "  File \"D:\\anaconda\\lib\\site-packages\\sklearn\\model_selection\\_validation.py\", line 680, in _fit_and_score\n",
      "    estimator.fit(X_train, y_train, **fit_params)\n",
      "  File \"D:\\anaconda\\lib\\site-packages\\sklearn\\linear_model\\_logistic.py\", line 1461, in fit\n",
      "    solver = _check_solver(self.solver, self.penalty, self.dual)\n",
      "  File \"D:\\anaconda\\lib\\site-packages\\sklearn\\linear_model\\_logistic.py\", line 447, in _check_solver\n",
      "    raise ValueError(\n",
      "ValueError: Solver newton-cg supports only 'l2' or 'none' penalties, got l1 penalty.\n",
      "\n",
      "--------------------------------------------------------------------------------\n",
      "960 fits failed with the following error:\n",
      "Traceback (most recent call last):\n",
      "  File \"D:\\anaconda\\lib\\site-packages\\sklearn\\model_selection\\_validation.py\", line 680, in _fit_and_score\n",
      "    estimator.fit(X_train, y_train, **fit_params)\n",
      "  File \"D:\\anaconda\\lib\\site-packages\\sklearn\\linear_model\\_logistic.py\", line 1461, in fit\n",
      "    solver = _check_solver(self.solver, self.penalty, self.dual)\n",
      "  File \"D:\\anaconda\\lib\\site-packages\\sklearn\\linear_model\\_logistic.py\", line 447, in _check_solver\n",
      "    raise ValueError(\n",
      "ValueError: Solver lbfgs supports only 'l2' or 'none' penalties, got l1 penalty.\n",
      "\n",
      "--------------------------------------------------------------------------------\n",
      "1230 fits failed with the following error:\n",
      "Traceback (most recent call last):\n",
      "  File \"D:\\anaconda\\lib\\site-packages\\sklearn\\model_selection\\_validation.py\", line 680, in _fit_and_score\n",
      "    estimator.fit(X_train, y_train, **fit_params)\n",
      "  File \"D:\\anaconda\\lib\\site-packages\\sklearn\\linear_model\\_logistic.py\", line 1461, in fit\n",
      "    solver = _check_solver(self.solver, self.penalty, self.dual)\n",
      "  File \"D:\\anaconda\\lib\\site-packages\\sklearn\\linear_model\\_logistic.py\", line 464, in _check_solver\n",
      "    raise ValueError(\"penalty='none' is not supported for the liblinear solver\")\n",
      "ValueError: penalty='none' is not supported for the liblinear solver\n",
      "\n",
      "--------------------------------------------------------------------------------\n",
      "1110 fits failed with the following error:\n",
      "Traceback (most recent call last):\n",
      "  File \"D:\\anaconda\\lib\\site-packages\\sklearn\\model_selection\\_validation.py\", line 680, in _fit_and_score\n",
      "    estimator.fit(X_train, y_train, **fit_params)\n",
      "  File \"D:\\anaconda\\lib\\site-packages\\sklearn\\linear_model\\_logistic.py\", line 1461, in fit\n",
      "    solver = _check_solver(self.solver, self.penalty, self.dual)\n",
      "  File \"D:\\anaconda\\lib\\site-packages\\sklearn\\linear_model\\_logistic.py\", line 457, in _check_solver\n",
      "    raise ValueError(\n",
      "ValueError: Only 'saga' solver supports elasticnet penalty, got solver=liblinear.\n",
      "\n",
      "--------------------------------------------------------------------------------\n",
      "1050 fits failed with the following error:\n",
      "Traceback (most recent call last):\n",
      "  File \"D:\\anaconda\\lib\\site-packages\\sklearn\\model_selection\\_validation.py\", line 680, in _fit_and_score\n",
      "    estimator.fit(X_train, y_train, **fit_params)\n",
      "  File \"D:\\anaconda\\lib\\site-packages\\sklearn\\linear_model\\_logistic.py\", line 1461, in fit\n",
      "    solver = _check_solver(self.solver, self.penalty, self.dual)\n",
      "  File \"D:\\anaconda\\lib\\site-packages\\sklearn\\linear_model\\_logistic.py\", line 447, in _check_solver\n",
      "    raise ValueError(\n",
      "ValueError: Solver newton-cg supports only 'l2' or 'none' penalties, got elasticnet penalty.\n",
      "\n",
      "  warnings.warn(some_fits_failed_message, FitFailedWarning)\n",
      "D:\\anaconda\\lib\\site-packages\\sklearn\\model_selection\\_search.py:969: UserWarning: One or more of the test scores are non-finite: [0.93303884        nan 0.93301217        nan 0.93303884 0.93303884\n",
      " 0.93303884 0.93300328        nan        nan        nan        nan\n",
      " 0.93303884        nan 0.93299439        nan        nan 0.93301217\n",
      " 0.9330181         nan 0.9329944  0.93303884 0.93301217 0.93303587\n",
      " 0.93301217        nan 0.93303884        nan 0.93303884 0.93303884\n",
      " 0.93303884        nan 0.93303884        nan 0.93303884 0.93303884\n",
      "        nan 0.93303884 0.93301513        nan 0.93303884 0.93299143\n",
      " 0.9330181  0.93303884        nan 0.93303884        nan        nan\n",
      "        nan        nan        nan 0.93303884        nan 0.93301217\n",
      "        nan 0.93301217        nan        nan        nan        nan\n",
      " 0.93303884        nan 0.93303884 0.93303884        nan 0.93300032\n",
      "        nan 0.93303884 0.93303884 0.93285811        nan        nan\n",
      "        nan        nan 0.93303884 0.93297069        nan 0.93298847\n",
      " 0.93297366 0.93303884        nan 0.93301514 0.93295588        nan\n",
      " 0.93285811        nan 0.93303884 0.93303884        nan        nan\n",
      " 0.93301217        nan        nan 0.93300625        nan        nan\n",
      "        nan        nan 0.93297662        nan        nan        nan\n",
      "        nan 0.93303884 0.93303884        nan 0.93303884        nan\n",
      " 0.93290551 0.93300921        nan        nan 0.93299736        nan\n",
      " 0.93301217 0.93303884 0.93301217        nan        nan 0.93303884\n",
      " 0.93303884 0.93303884 0.93301217        nan 0.93291736 0.93303884\n",
      "        nan        nan 0.93303884        nan 0.93290255 0.93302106\n",
      " 0.93303884 0.93291736 0.9329144  0.93301217        nan 0.93303884\n",
      " 0.93298254        nan 0.93303884        nan 0.93303884        nan\n",
      " 0.93301217 0.93303884 0.93301217 0.93303884 0.93303884        nan\n",
      " 0.93301217 0.93299736 0.93300921 0.93303884        nan        nan\n",
      "        nan        nan 0.93300032 0.93303884 0.9330181         nan\n",
      "        nan        nan        nan 0.93301217        nan        nan\n",
      " 0.93301217 0.9329944  0.93303884        nan        nan 0.93302106\n",
      " 0.93303884        nan        nan 0.93303884        nan 0.93301217\n",
      " 0.93300921        nan 0.93298254        nan 0.93303884 0.93290255\n",
      " 0.93300328        nan        nan        nan 0.93301217 0.93303884\n",
      " 0.93303884 0.93303884 0.93301217 0.93301514        nan        nan\n",
      " 0.93301217        nan        nan 0.93285811 0.93301217 0.93285811\n",
      "        nan        nan        nan 0.93303884 0.93302402 0.93303884\n",
      "        nan 0.93303884 0.93301217        nan        nan 0.93301217\n",
      " 0.93297366        nan        nan        nan 0.93297958        nan\n",
      " 0.93301217        nan        nan        nan 0.93301217 0.93303884\n",
      " 0.93303884        nan 0.93285811 0.93303884        nan        nan\n",
      " 0.93297958 0.93285811 0.93303884 0.93303884        nan        nan\n",
      "        nan 0.93297069 0.93303884        nan 0.93298254        nan\n",
      " 0.9330181  0.93289959        nan        nan        nan 0.93303884\n",
      " 0.93303884        nan        nan 0.93297662        nan 0.93302995\n",
      "        nan 0.93303884        nan 0.93285811 0.93296477 0.93300032\n",
      " 0.93297662        nan 0.93303884 0.93289959        nan 0.93303884\n",
      " 0.93301217        nan 0.93300032        nan        nan 0.93301217\n",
      "        nan        nan 0.93301513 0.93300625 0.93303884        nan\n",
      " 0.93301217        nan 0.93301217 0.93300625        nan 0.93303884\n",
      "        nan        nan 0.9330181  0.93300625        nan        nan\n",
      "        nan 0.93301217        nan 0.93303884 0.93303884        nan\n",
      "        nan 0.93301513        nan        nan        nan 0.93283441\n",
      " 0.93301217        nan 0.93303884 0.93301217        nan 0.93303884\n",
      "        nan 0.93303884        nan 0.93297958 0.93303884 0.93298254\n",
      "        nan        nan 0.9329944  0.93301217        nan 0.93299736\n",
      "        nan 0.93298847 0.93290255 0.93301217 0.93303884 0.93300921\n",
      "        nan 0.93303291        nan 0.93301217 0.93303884 0.93303884\n",
      " 0.93301217 0.93300328 0.93301217        nan        nan 0.93285811\n",
      " 0.93303884        nan        nan        nan 0.93298254        nan\n",
      " 0.93303884        nan        nan        nan 0.93303884 0.93300625\n",
      " 0.93303884 0.93303884        nan 0.93303884 0.93300921 0.93298254\n",
      "        nan        nan 0.93290255 0.93300921 0.93303884 0.93291736\n",
      "        nan 0.93303884 0.93298551 0.93301217        nan 0.93300328\n",
      " 0.93301217 0.93303884 0.93303884        nan 0.93296773        nan\n",
      "        nan        nan        nan        nan        nan 0.93303884\n",
      "        nan 0.93303884        nan        nan 0.93300921        nan\n",
      "        nan        nan        nan 0.93299143        nan 0.93303884\n",
      " 0.9330181  0.9330181  0.93303884        nan        nan 0.93303884\n",
      " 0.93285811 0.93302106 0.93303884 0.93303884        nan        nan\n",
      " 0.93298254 0.93285811 0.93302402        nan        nan        nan\n",
      "        nan 0.93289366 0.93303884        nan 0.93301217 0.93297662\n",
      "        nan        nan 0.93303884        nan 0.93302402        nan\n",
      "        nan 0.93297958        nan        nan        nan        nan\n",
      " 0.93289959        nan        nan        nan        nan        nan\n",
      "        nan 0.93303884 0.93303587 0.93300921        nan 0.93303884\n",
      " 0.93285811 0.93303884        nan 0.93303884 0.93303884        nan\n",
      "        nan 0.93303884 0.93300921        nan        nan 0.93303884\n",
      "        nan        nan 0.93303884        nan 0.93303884        nan\n",
      "        nan 0.93301217        nan        nan        nan 0.93303884\n",
      " 0.93303884 0.93301217        nan        nan        nan        nan\n",
      "        nan 0.93301217 0.93303884        nan 0.93301513        nan\n",
      " 0.93303884        nan        nan 0.93303884        nan        nan\n",
      "        nan        nan 0.93303884        nan 0.93303884 0.93301217\n",
      " 0.93299736        nan 0.93303884        nan 0.93297366        nan\n",
      " 0.93303884        nan]\n",
      "  warnings.warn(\n"
     ]
    },
    {
     "name": "stdout",
     "output_type": "stream",
     "text": [
      "Best Score: 0.933038837568348\n",
      "Best Hyperparameters: {'C': 0.007854253333141461, 'penalty': 'l1', 'solver': 'liblinear'}\n"
     ]
    }
   ],
   "source": [
    "from sklearn.linear_model import LogisticRegression\n",
    "from sklearn.model_selection import RepeatedStratifiedKFold\n",
    "from sklearn.model_selection import RandomizedSearchCV\n",
    "from scipy.stats import loguniform\n",
    "\n",
    "model = LogisticRegression()\n",
    "# define evaluation\n",
    "cv = RepeatedStratifiedKFold(n_splits=10, n_repeats=3, random_state=1)\n",
    "# define search space\n",
    "space = dict()\n",
    "space['solver'] = ['newton-cg', 'lbfgs', 'liblinear']\n",
    "space['penalty'] = ['none', 'l1', 'l2', 'elasticnet']\n",
    "space['C'] = loguniform(1e-5, 100)\n",
    "# define search\n",
    "search = RandomizedSearchCV(model, space, n_iter=500, scoring='accuracy', n_jobs=-1, cv=cv, random_state=1)\n",
    "# execute search\n",
    "result = search.fit(train[features], train.serious_dlqin2yrs)\n",
    "# summarize result\n",
    "print('Best Score: %s' % result.best_score_)\n",
    "print('Best Hyperparameters: %s' % result.best_params_)"
   ]
  },
  {
   "cell_type": "code",
   "execution_count": 37,
   "metadata": {},
   "outputs": [
    {
     "name": "stdout",
     "output_type": "stream",
     "text": [
      "              precision    recall  f1-score   support\n",
      "\n",
      "           0       0.93      1.00      0.97     35020\n",
      "           1       0.53      0.02      0.03      2472\n",
      "\n",
      "    accuracy                           0.93     37492\n",
      "   macro avg       0.73      0.51      0.50     37492\n",
      "weighted avg       0.91      0.93      0.90     37492\n",
      "\n"
     ]
    },
    {
     "data": {
      "image/png": "[encoded data removed]",
      "text/plain": [
       "<Figure size 432x288 with 1 Axes>"
      ]
     },
     "metadata": {
      "needs_background": "light"
     },
     "output_type": "display_data"
    }
   ],
   "source": [
    "from sklearn.linear_model import LogisticRegression\n",
    "clf = LogisticRegression(C=0.007854253333141461, penalty = 'l1', solver = 'liblinear')\n",
    "clf.fit(train[features], train.serious_dlqin2yrs)\n",
    "probs = clf.predict_proba(test[features])[::,1]\n",
    "print (classification_report(test['serious_dlqin2yrs'], clf.predict(test[features]), labels=[0, 1]))\n",
    "plot_roc(\"Logistic Regression\", probs)"
   ]
  },
  {
   "cell_type": "code",
   "execution_count": 38,
   "metadata": {},
   "outputs": [
    {
     "name": "stdout",
     "output_type": "stream",
     "text": [
      "Requirement already satisfied: imblearn in d:\\anaconda\\lib\\site-packages (0.0)\n",
      "Requirement already satisfied: imbalanced-learn in d:\\anaconda\\lib\\site-packages (from imblearn) (0.9.0)\n",
      "Requirement already satisfied: scikit-learn>=1.0.1 in d:\\anaconda\\lib\\site-packages (from imbalanced-learn->imblearn) (1.0.2)\n",
      "Requirement already satisfied: numpy>=1.14.6 in d:\\anaconda\\lib\\site-packages (from imbalanced-learn->imblearn) (1.20.1)\n",
      "Requirement already satisfied: threadpoolctl>=2.0.0 in d:\\anaconda\\lib\\site-packages (from imbalanced-learn->imblearn) (2.1.0)\n",
      "Requirement already satisfied: scipy>=1.1.0 in d:\\anaconda\\lib\\site-packages (from imbalanced-learn->imblearn) (1.6.2)\n",
      "Requirement already satisfied: joblib>=0.11 in d:\\anaconda\\lib\\site-packages (from imbalanced-learn->imblearn) (1.0.1)\n"
     ]
    }
   ],
   "source": [
    "!pip install imblearn"
   ]
  },
  {
   "cell_type": "code",
   "execution_count": 39,
   "id": "55865841",
   "metadata": {},
   "outputs": [
    {
     "data": {
      "text/html": [
       "<div>\n",
       "<style scoped>\n",
       "    .dataframe tbody tr th:only-of-type {\n",
       "        vertical-align: middle;\n",
       "    }\n",
       "\n",
       "    .dataframe tbody tr th {\n",
       "        vertical-align: top;\n",
       "    }\n",
       "\n",
       "    .dataframe thead th {\n",
       "        text-align: right;\n",
       "    }\n",
       "</style>\n",
       "<table border=\"1\" class=\"dataframe\">\n",
       "  <thead>\n",
       "    <tr style=\"text-align: right;\">\n",
       "      <th></th>\n",
       "      <th>serious_dlqin2yrs</th>\n",
       "      <th>revolving_utilization_of_unsecured_lines</th>\n",
       "      <th>age</th>\n",
       "      <th>number_of_time30-59_days_past_due_not_worse</th>\n",
       "      <th>debt_ratio</th>\n",
       "      <th>monthly_income</th>\n",
       "      <th>number_of_open_credit_lines_and_loans</th>\n",
       "      <th>number_of_times90_days_late</th>\n",
       "      <th>number_real_estate_loans_or_lines</th>\n",
       "      <th>number_of_time60-89_days_past_due_not_worse</th>\n",
       "      <th>number_of_dependents</th>\n",
       "      <th>monthly_income_imputed</th>\n",
       "    </tr>\n",
       "  </thead>\n",
       "  <tbody>\n",
       "    <tr>\n",
       "      <th>37661</th>\n",
       "      <td>0</td>\n",
       "      <td>0.067644</td>\n",
       "      <td>64</td>\n",
       "      <td>0</td>\n",
       "      <td>0.254976</td>\n",
       "      <td>5525.0</td>\n",
       "      <td>12</td>\n",
       "      <td>0</td>\n",
       "      <td>1</td>\n",
       "      <td>0</td>\n",
       "      <td>0.0</td>\n",
       "      <td>16800.0</td>\n",
       "    </tr>\n",
       "    <tr>\n",
       "      <th>37662</th>\n",
       "      <td>0</td>\n",
       "      <td>0.002485</td>\n",
       "      <td>82</td>\n",
       "      <td>0</td>\n",
       "      <td>0.000800</td>\n",
       "      <td>5000.0</td>\n",
       "      <td>5</td>\n",
       "      <td>0</td>\n",
       "      <td>0</td>\n",
       "      <td>0</td>\n",
       "      <td>0.0</td>\n",
       "      <td>4166.0</td>\n",
       "    </tr>\n",
       "    <tr>\n",
       "      <th>37663</th>\n",
       "      <td>0</td>\n",
       "      <td>0.037548</td>\n",
       "      <td>84</td>\n",
       "      <td>0</td>\n",
       "      <td>25.000000</td>\n",
       "      <td>4166.0</td>\n",
       "      <td>5</td>\n",
       "      <td>0</td>\n",
       "      <td>0</td>\n",
       "      <td>0</td>\n",
       "      <td>0.0</td>\n",
       "      <td>4166.0</td>\n",
       "    </tr>\n",
       "    <tr>\n",
       "      <th>37664</th>\n",
       "      <td>0</td>\n",
       "      <td>0.902051</td>\n",
       "      <td>31</td>\n",
       "      <td>1</td>\n",
       "      <td>0.347924</td>\n",
       "      <td>7515.0</td>\n",
       "      <td>10</td>\n",
       "      <td>0</td>\n",
       "      <td>1</td>\n",
       "      <td>0</td>\n",
       "      <td>0.0</td>\n",
       "      <td>6743.0</td>\n",
       "    </tr>\n",
       "    <tr>\n",
       "      <th>37665</th>\n",
       "      <td>0</td>\n",
       "      <td>0.104112</td>\n",
       "      <td>59</td>\n",
       "      <td>0</td>\n",
       "      <td>0.477658</td>\n",
       "      <td>10316.0</td>\n",
       "      <td>10</td>\n",
       "      <td>0</td>\n",
       "      <td>2</td>\n",
       "      <td>0</td>\n",
       "      <td>0.0</td>\n",
       "      <td>5500.0</td>\n",
       "    </tr>\n",
       "  </tbody>\n",
       "</table>\n",
       "</div>"
      ],
      "text/plain": [
       "       serious_dlqin2yrs  revolving_utilization_of_unsecured_lines  age  \\\n",
       "37661                  0                                  0.067644   64   \n",
       "37662                  0                                  0.002485   82   \n",
       "37663                  0                                  0.037548   84   \n",
       "37664                  0                                  0.902051   31   \n",
       "37665                  0                                  0.104112   59   \n",
       "\n",
       "       number_of_time30-59_days_past_due_not_worse  debt_ratio  \\\n",
       "37661                                            0    0.254976   \n",
       "37662                                            0    0.000800   \n",
       "37663                                            0   25.000000   \n",
       "37664                                            1    0.347924   \n",
       "37665                                            0    0.477658   \n",
       "\n",
       "       monthly_income  number_of_open_credit_lines_and_loans  \\\n",
       "37661          5525.0                                     12   \n",
       "37662          5000.0                                      5   \n",
       "37663          4166.0                                      5   \n",
       "37664          7515.0                                     10   \n",
       "37665         10316.0                                     10   \n",
       "\n",
       "       number_of_times90_days_late  number_real_estate_loans_or_lines  \\\n",
       "37661                            0                                  1   \n",
       "37662                            0                                  0   \n",
       "37663                            0                                  0   \n",
       "37664                            0                                  1   \n",
       "37665                            0                                  2   \n",
       "\n",
       "       number_of_time60-89_days_past_due_not_worse  number_of_dependents  \\\n",
       "37661                                            0                   0.0   \n",
       "37662                                            0                   0.0   \n",
       "37663                                            0                   0.0   \n",
       "37664                                            0                   0.0   \n",
       "37665                                            0                   0.0   \n",
       "\n",
       "       monthly_income_imputed  \n",
       "37661                 16800.0  \n",
       "37662                  4166.0  \n",
       "37663                  4166.0  \n",
       "37664                  6743.0  \n",
       "37665                  5500.0  "
      ]
     },
     "execution_count": 39,
     "metadata": {},
     "output_type": "execute_result"
    }
   ],
   "source": [
    "finaltest = pd.read_csv(\"data/cs-test.csv\")\n",
    "finaltest.tail()"
   ]
  },
  {
   "cell_type": "code",
   "execution_count": 40,
   "id": "5d6b7e71",
   "metadata": {},
   "outputs": [
    {
     "data": {
      "text/plain": [
       "['revolving_utilization_of_unsecured_lines',\n",
       " 'age',\n",
       " 'number_of_time30-59_days_past_due_not_worse',\n",
       " 'debt_ratio',\n",
       " 'monthly_income',\n",
       " 'number_of_open_credit_lines_and_loans',\n",
       " 'number_of_times90_days_late',\n",
       " 'number_real_estate_loans_or_lines',\n",
       " 'number_of_time60-89_days_past_due_not_worse',\n",
       " 'number_of_dependents',\n",
       " 'monthly_income_imputed']"
      ]
     },
     "execution_count": 40,
     "metadata": {},
     "output_type": "execute_result"
    }
   ],
   "source": [
    "finaltest.columns = [camel_to_snake(col) for col in finaltest.columns]\n",
    "coltest = finaltest.columns.tolist()[1:]\n",
    "coltest"
   ]
  },
  {
   "cell_type": "markdown",
   "metadata": {},
   "source": [
    "## Decision Tree"
   ]
  },
  {
   "cell_type": "code",
   "execution_count": 41,
   "metadata": {},
   "outputs": [
    {
     "data": {
      "text/plain": [
       "DecisionTreeClassifier()"
      ]
     },
     "execution_count": 41,
     "metadata": {},
     "output_type": "execute_result"
    }
   ],
   "source": [
    "from sklearn. ensemble import RandomForestClassifier, BaggingClassifier, AdaBoostClassifier, VotingClassifier\n",
    "from sklearn.tree import DecisionTreeClassifier\n",
    "dt = DecisionTreeClassifier()\n",
    "dt.fit(train[features], train.serious_dlqin2yrs)"
   ]
  },
  {
   "cell_type": "code",
   "execution_count": 42,
   "metadata": {},
   "outputs": [
    {
     "name": "stdout",
     "output_type": "stream",
     "text": [
      "              precision    recall  f1-score   support\n",
      "\n",
      "           0       0.95      0.94      0.94     35234\n",
      "           1       0.23      0.25      0.24      2472\n",
      "\n",
      "    accuracy                           0.90     37706\n",
      "   macro avg       0.59      0.60      0.59     37706\n",
      "weighted avg       0.90      0.90      0.90     37706\n",
      "\n"
     ]
    }
   ],
   "source": [
    "print(classification_report(test['serious_dlqin2yrs'], dt.predict(test[features]), labels=[0, 1]))\n",
    "probs = dt.predict_proba(test[features])[::,1]"
   ]
  },
  {
   "cell_type": "code",
   "execution_count": 43,
   "metadata": {},
   "outputs": [
    {
     "data": {
      "text/plain": [
       "0.8960112448947117"
      ]
     },
     "execution_count": 43,
     "metadata": {},
     "output_type": "execute_result"
    }
   ],
   "source": [
    "dt.score(test[features], test.serious_dlqin2yrs)\n"
   ]
  },
  {
   "cell_type": "code",
   "execution_count": 44,
   "metadata": {},
   "outputs": [
    {
     "data": {
      "image/png": "[encoded data removed]",
      "text/plain": [
       "<Figure size 432x288 with 1 Axes>"
      ]
     },
     "metadata": {
      "needs_background": "light"
     },
     "output_type": "display_data"
    }
   ],
   "source": [
    "plot_roc(\"Decision tree Classifier Final\", probs)"
   ]
  },
  {
   "cell_type": "markdown",
   "metadata": {},
   "source": [
    "## Bagging"
   ]
  },
  {
   "cell_type": "code",
   "execution_count": 45,
   "metadata": {},
   "outputs": [
    {
     "data": {
      "text/plain": [
       "AdaBoostClassifier(base_estimator=DecisionTreeClassifier(), learning_rate=1,\n",
       "                   n_estimators=5)"
      ]
     },
     "execution_count": 45,
     "metadata": {},
     "output_type": "execute_result"
    }
   ],
   "source": [
    "adb = AdaBoostClassifier(DecisionTreeClassifier(),n_estimators = 5, learning_rate = 1)\n",
    "adb.fit(train[features], train.serious_dlqin2yrs)"
   ]
  },
  {
   "cell_type": "code",
   "execution_count": 46,
   "metadata": {},
   "outputs": [
    {
     "data": {
      "text/plain": [
       "BaggingClassifier(base_estimator=DecisionTreeClassifier(), max_samples=0.5,\n",
       "                  n_estimators=20)"
      ]
     },
     "execution_count": 46,
     "metadata": {},
     "output_type": "execute_result"
    }
   ],
   "source": [
    "bg = BaggingClassifier(DecisionTreeClassifier(), max_samples= 0.5, max_features = 1.0, n_estimators = 20)\n",
    "bg.fit(train[features], train.serious_dlqin2yrs)"
   ]
  },
  {
   "cell_type": "code",
   "execution_count": 47,
   "metadata": {},
   "outputs": [
    {
     "data": {
      "text/plain": [
       "0.9353153344295337"
      ]
     },
     "execution_count": 47,
     "metadata": {},
     "output_type": "execute_result"
    }
   ],
   "source": [
    "bg.score(test[features], test.serious_dlqin2yrs)\n"
   ]
  },
  {
   "cell_type": "code",
   "execution_count": 48,
   "metadata": {},
   "outputs": [
    {
     "data": {
      "image/png": "[encoded data removed]",
      "text/plain": [
       "<Figure size 432x288 with 1 Axes>"
      ]
     },
     "metadata": {
      "needs_background": "light"
     },
     "output_type": "display_data"
    }
   ],
   "source": [
    "probs = bg.predict_proba(test[features])[::,1]\n",
    "plot_roc(\"Bagging\", probs)"
   ]
  },
  {
   "cell_type": "code",
   "execution_count": 49,
   "metadata": {},
   "outputs": [
    {
     "name": "stdout",
     "output_type": "stream",
     "text": [
      "              precision    recall  f1-score   support\n",
      "\n",
      "           0       0.94      0.99      0.97     35234\n",
      "           1       0.52      0.15      0.23      2472\n",
      "\n",
      "    accuracy                           0.94     37706\n",
      "   macro avg       0.73      0.57      0.60     37706\n",
      "weighted avg       0.92      0.94      0.92     37706\n",
      "\n"
     ]
    }
   ],
   "source": [
    "print(classification_report(test['serious_dlqin2yrs'], bg.predict(test[features]), labels=[0, 1]))\n",
    "probs = bg.predict_proba(test[features])[::,1]"
   ]
  },
  {
   "cell_type": "markdown",
   "metadata": {},
   "source": [
    "## Boosting"
   ]
  },
  {
   "cell_type": "code",
   "execution_count": 50,
   "metadata": {},
   "outputs": [
    {
     "data": {
      "text/plain": [
       "AdaBoostClassifier(base_estimator=DecisionTreeClassifier(), learning_rate=1,\n",
       "                   n_estimators=5)"
      ]
     },
     "execution_count": 50,
     "metadata": {},
     "output_type": "execute_result"
    }
   ],
   "source": [
    "adb = AdaBoostClassifier(DecisionTreeClassifier(),n_estimators = 5, learning_rate = 1)\n",
    "adb.fit(train[features], train.serious_dlqin2yrs)"
   ]
  },
  {
   "cell_type": "code",
   "execution_count": 51,
   "metadata": {},
   "outputs": [
    {
     "data": {
      "text/plain": [
       "0.9146289715164695"
      ]
     },
     "execution_count": 51,
     "metadata": {},
     "output_type": "execute_result"
    }
   ],
   "source": [
    "adb.score(test[features], test.serious_dlqin2yrs)\n"
   ]
  },
  {
   "cell_type": "code",
   "execution_count": 52,
   "metadata": {},
   "outputs": [
    {
     "data": {
      "image/png": "[encoded data removed]",
      "text/plain": [
       "<Figure size 432x288 with 1 Axes>"
      ]
     },
     "metadata": {
      "needs_background": "light"
     },
     "output_type": "display_data"
    }
   ],
   "source": [
    "probs = adb.predict_proba(test[features])[::,1]\n",
    "plot_roc(\"Boosting\", probs)"
   ]
  },
  {
   "cell_type": "markdown",
   "metadata": {},
   "source": [
    "## Ensemble Learning"
   ]
  },
  {
   "cell_type": "code",
   "execution_count": 53,
   "metadata": {},
   "outputs": [
    {
     "name": "stderr",
     "output_type": "stream",
     "text": [
      "D:\\anaconda\\lib\\site-packages\\sklearn\\linear_model\\_logistic.py:814: ConvergenceWarning: lbfgs failed to converge (status=1):\n",
      "STOP: TOTAL NO. of ITERATIONS REACHED LIMIT.\n",
      "\n",
      "Increase the number of iterations (max_iter) or scale the data as shown in:\n",
      "    https://scikit-learn.org/stable/modules/preprocessing.html\n",
      "Please also refer to the documentation for alternative solver options:\n",
      "    https://scikit-learn.org/stable/modules/linear_model.html#logistic-regression\n",
      "  n_iter_i = _check_optimize_result(\n"
     ]
    },
    {
     "data": {
      "text/plain": [
       "VotingClassifier(estimators=[('clf', LogisticRegression()),\n",
       "                             ('dt', DecisionTreeClassifier()),\n",
       "                             ('adb',\n",
       "                              AdaBoostClassifier(base_estimator=DecisionTreeClassifier(),\n",
       "                                                 learning_rate=1,\n",
       "                                                 n_estimators=5))])"
      ]
     },
     "execution_count": 53,
     "metadata": {},
     "output_type": "execute_result"
    }
   ],
   "source": [
    "evc = VotingClassifier( estimators= [('clf',clf),('dt',dt),('adb',adb)], voting = 'hard')\n",
    "evc.fit(train[features], train.serious_dlqin2yrs)"
   ]
  },
  {
   "cell_type": "code",
   "execution_count": 54,
   "metadata": {},
   "outputs": [
    {
     "data": {
      "text/plain": [
       "0.9270142682862144"
      ]
     },
     "execution_count": 54,
     "metadata": {},
     "output_type": "execute_result"
    }
   ],
   "source": [
    "evc.score(test[features], test.serious_dlqin2yrs)"
   ]
  },
  {
   "cell_type": "code",
   "execution_count": 55,
   "metadata": {},
   "outputs": [
    {
     "name": "stdout",
     "output_type": "stream",
     "text": [
      "              precision    recall  f1-score   support\n",
      "\n",
      "           0       0.94      0.98      0.96     35234\n",
      "           1       0.36      0.14      0.20      2472\n",
      "\n",
      "    accuracy                           0.93     37706\n",
      "   macro avg       0.65      0.56      0.58     37706\n",
      "weighted avg       0.90      0.93      0.91     37706\n",
      "\n"
     ]
    }
   ],
   "source": [
    "print(classification_report(test['serious_dlqin2yrs'], evc.predict(test[features]), labels=[0, 1]))"
   ]
  },
  {
   "cell_type": "markdown",
   "metadata": {},
   "source": [
    "## USING SMOTE"
   ]
  },
  {
   "cell_type": "code",
   "execution_count": 56,
   "metadata": {},
   "outputs": [
    {
     "name": "stderr",
     "output_type": "stream",
     "text": [
      "D:\\anaconda\\lib\\site-packages\\imblearn\\utils\\_validation.py:299: UserWarning: After over-sampling, the number of samples (105883) in class 0 will be larger than the number of samples in the majority class (class #0 -> 104740)\n",
      "  warnings.warn(\n"
     ]
    }
   ],
   "source": [
    "from imblearn.over_sampling import SMOTE\n",
    "\n",
    "strategy = {0:105883 , 1:70000}\n",
    "sm_data  = SMOTE(random_state=69, sampling_strategy=strategy, n_jobs=-1)\n",
    "X_sm, y_sm = sm_data.fit_resample(train[features],train.serious_dlqin2yrs )"
   ]
  },
  {
   "cell_type": "markdown",
   "metadata": {},
   "source": [
    "PCA is a linear dimensionality reduction technique. It transforms a set of correlated variables (p) into a smaller k (k<p) number of uncorrelated variables called principal components while retaining as much of the variation in the original dataset as possible.The main concept behind the PCA is to consider the correlation among features. If the correlation is very high among a subset of the features, PCA will attempt to combine the highly correlated features and represent this data with a smaller number of linearly uncorrelated features. The algorithm keeps performing this correlation reduction, finding the directions of maximum variance in the original high-dimensional data and projecting them onto a smaller dimensional space. These newly derived components are known as principal components."
   ]
  },
  {
   "cell_type": "code",
   "execution_count": 57,
   "metadata": {},
   "outputs": [
    {
     "name": "stdout",
     "output_type": "stream",
     "text": [
      "              precision    recall  f1-score   support\n",
      "\n",
      "           0       0.97      0.87      0.92     35234\n",
      "           1       0.23      0.56      0.33      2472\n",
      "\n",
      "    accuracy                           0.85     37706\n",
      "   macro avg       0.60      0.71      0.62     37706\n",
      "weighted avg       0.92      0.85      0.88     37706\n",
      "\n"
     ]
    },
    {
     "data": {
      "image/png": "[encoded data removed]",
      "text/plain": [
       "<Figure size 432x288 with 1 Axes>"
      ]
     },
     "metadata": {
      "needs_background": "light"
     },
     "output_type": "display_data"
    }
   ],
   "source": [
    "clf = RandomForestClassifier(n_estimators=15,max_depth = 10, random_state=0)\n",
    "clf.fit(X_sm, y_sm)\n",
    "probs = clf.predict_proba(test[features])[::,1]\n",
    "print (classification_report(test['serious_dlqin2yrs'], clf.predict(test[features]), labels=[0, 1]))\n",
    "plot_roc(\"RandomForest\", probs)"
   ]
  },
  {
   "cell_type": "markdown",
   "id": "668cf308",
   "metadata": {},
   "source": [
    "## GRADIENT BOOSTING CLASSIFIER"
   ]
  },
  {
   "cell_type": "code",
   "execution_count": 58,
   "id": "210ece69",
   "metadata": {},
   "outputs": [],
   "source": [
    "features = ['revolving_utilization_of_unsecured_lines', 'debt_ratio',\n",
    "            'number_of_times90_days_late', 'number_real_estate_loans_or_lines']"
   ]
  },
  {
   "cell_type": "code",
   "execution_count": 59,
   "id": "1ec0f470",
   "metadata": {},
   "outputs": [
    {
     "name": "stdout",
     "output_type": "stream",
     "text": [
      "              precision    recall  f1-score   support\n",
      "\n",
      "           0       0.94      0.99      0.97     35234\n",
      "           1       0.60      0.13      0.21      2472\n",
      "\n",
      "    accuracy                           0.94     37706\n",
      "   macro avg       0.77      0.56      0.59     37706\n",
      "weighted avg       0.92      0.94      0.92     37706\n",
      "\n"
     ]
    }
   ],
   "source": [
    "clf = GradientBoostingClassifier()\n",
    "clf.fit(train[features], train.serious_dlqin2yrs)\n",
    "probs = clf.predict_proba(test[features])[::,1]\n",
    "print (classification_report(test['serious_dlqin2yrs'], clf.predict(test[features]), labels=[0, 1]))\n"
   ]
  },
  {
   "cell_type": "code",
   "execution_count": 60,
   "id": "133eb00b",
   "metadata": {},
   "outputs": [
    {
     "data": {
      "image/png": "[encoded data removed]",
      "text/plain": [
       "<Figure size 432x288 with 1 Axes>"
      ]
     },
     "metadata": {
      "needs_background": "light"
     },
     "output_type": "display_data"
    }
   ],
   "source": [
    "plot_roc(\"Gradient Boosting Classifier Final\", probs)\n"
   ]
  },
  {
   "cell_type": "markdown",
   "metadata": {},
   "source": [
    "# # CHECKING FEATURE IMPORTANCE"
   ]
  },
  {
   "cell_type": "code",
   "execution_count": 62,
   "metadata": {},
   "outputs": [
    {
     "name": "stdout",
     "output_type": "stream",
     "text": [
      "Elapsed time to compute the importances: 0.047 seconds\n"
     ]
    },
    {
     "data": {
      "image/png": "[encoded data removed]",
      "text/plain": [
       "<Figure size 432x288 with 1 Axes>"
      ]
     },
     "metadata": {
      "needs_background": "light"
     },
     "output_type": "display_data"
    }
   ],
   "source": [
    "forest = RandomForestClassifier(random_state=0)\n",
    "forest.fit(train[features], train.serious_dlqin2yrs)\n",
    "import time\n",
    "import numpy as np\n",
    "\n",
    "start_time = time.time()\n",
    "importances = forest.feature_importances_\n",
    "std = np.std([tree.feature_importances_ for tree in forest.estimators_], axis=0)\n",
    "elapsed_time = time.time() - start_time\n",
    "\n",
    "print(f\"Elapsed time to compute the importances: {elapsed_time:.3f} seconds\")\n",
    "forest_importances = pd.Series(importances, index=features)\n",
    "\n",
    "fig, ax = plt.subplots()\n",
    "forest_importances.plot.bar(yerr=std, ax=ax)\n",
    "ax.set_title(\"Feature importances using MDI\")\n",
    "ax.set_ylabel(\"Mean decrease in impurity\")\n",
    "fig.tight_layout()"
   ]
  },
  {
   "cell_type": "markdown",
   "metadata": {},
   "source": [
    "## Making dump file and fumction for flask"
   ]
  },
  {
   "cell_type": "code",
   "execution_count": 63,
   "metadata": {},
   "outputs": [
    {
     "data": {
      "text/plain": [
       "['credit_scoring_model.pkl']"
      ]
     },
     "execution_count": 63,
     "metadata": {},
     "output_type": "execute_result"
    }
   ],
   "source": [
    "import joblib\n",
    "joblib.dump(clf,\"credit_scoring_model.pkl\")"
   ]
  },
  {
   "cell_type": "code",
   "execution_count": 64,
   "metadata": {},
   "outputs": [
    {
     "name": "stderr",
     "output_type": "stream",
     "text": [
      "D:\\anaconda\\lib\\site-packages\\sklearn\\base.py:450: UserWarning: X does not have valid feature names, but GradientBoostingClassifier was fitted with feature names\n",
      "  warnings.warn(\n"
     ]
    },
    {
     "data": {
      "text/plain": [
       "'Congratulations! You are eligible for Loan.'"
      ]
     },
     "execution_count": 64,
     "metadata": {},
     "output_type": "execute_result"
    }
   ],
   "source": [
    "import joblib\n",
    "import numpy as np\n",
    "\n",
    "\n",
    "def predict(input):\n",
    "    model = joblib.load('credit_scoring_model.pkl')\n",
    "    input = np.array(test.iloc[0][features])\n",
    "    input = input.reshape(1,4)\n",
    "    prediction = model.predict(input)\n",
    "    if prediction[0] == 0:\n",
    "        return \"Congratulations! You are eligible for Loan.\"\n",
    "    else:\n",
    "        return \"Sorry! You are not eligible for Loan.\"\n",
    "    \n",
    "    \n",
    "user_list = [0.766126609, 0.802982129, 0.0, 6.0]    \n",
    "predict(user_list)"
   ]
  }
 ],
 "metadata": {
  "kernelspec": {
   "display_name": "Python 3",
   "language": "python",
   "name": "python3"
  },
  "language_info": {
   "codemirror_mode": {
    "name": "ipython",
    "version": 3
   },
   "file_extension": ".py",
   "mimetype": "text/x-python",
   "name": "python",
   "nbconvert_exporter": "python",
   "pygments_lexer": "ipython3",
   "version": "3.8.8"
  }
 },
 "nbformat": 4,
 "nbformat_minor": 1
}
